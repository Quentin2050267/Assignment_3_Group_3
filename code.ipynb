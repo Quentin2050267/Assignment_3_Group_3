{
 "cells": [
  {
   "cell_type": "code",
   "execution_count": 57,
   "metadata": {},
   "outputs": [
    {
     "data": {
      "text/html": [
       "<div>\n",
       "<style scoped>\n",
       "    .dataframe tbody tr th:only-of-type {\n",
       "        vertical-align: middle;\n",
       "    }\n",
       "\n",
       "    .dataframe tbody tr th {\n",
       "        vertical-align: top;\n",
       "    }\n",
       "\n",
       "    .dataframe thead th {\n",
       "        text-align: right;\n",
       "    }\n",
       "</style>\n",
       "<table border=\"1\" class=\"dataframe\">\n",
       "  <thead>\n",
       "    <tr style=\"text-align: right;\">\n",
       "      <th></th>\n",
       "      <th>timestamp</th>\n",
       "      <th>group id</th>\n",
       "      <th>side</th>\n",
       "      <th>price</th>\n",
       "      <th>size</th>\n",
       "      <th>order id</th>\n",
       "    </tr>\n",
       "  </thead>\n",
       "  <tbody>\n",
       "    <tr>\n",
       "      <th>0</th>\n",
       "      <td>2024-09-30 20:26:01</td>\n",
       "      <td>5</td>\n",
       "      <td>buy</td>\n",
       "      <td>8.0</td>\n",
       "      <td>50</td>\n",
       "      <td>1</td>\n",
       "    </tr>\n",
       "    <tr>\n",
       "      <th>1</th>\n",
       "      <td>2024-09-30 20:26:11</td>\n",
       "      <td>14</td>\n",
       "      <td>sell</td>\n",
       "      <td>11.0</td>\n",
       "      <td>20</td>\n",
       "      <td>2</td>\n",
       "    </tr>\n",
       "    <tr>\n",
       "      <th>2</th>\n",
       "      <td>2024-09-30 20:26:14</td>\n",
       "      <td>10</td>\n",
       "      <td>sell</td>\n",
       "      <td>11.0</td>\n",
       "      <td>100</td>\n",
       "      <td>3</td>\n",
       "    </tr>\n",
       "    <tr>\n",
       "      <th>3</th>\n",
       "      <td>2024-09-30 20:26:15</td>\n",
       "      <td>12</td>\n",
       "      <td>sell</td>\n",
       "      <td>10.0</td>\n",
       "      <td>50</td>\n",
       "      <td>4</td>\n",
       "    </tr>\n",
       "    <tr>\n",
       "      <th>4</th>\n",
       "      <td>2024-09-30 20:26:16</td>\n",
       "      <td>7</td>\n",
       "      <td>buy</td>\n",
       "      <td>5.0</td>\n",
       "      <td>50</td>\n",
       "      <td>5</td>\n",
       "    </tr>\n",
       "  </tbody>\n",
       "</table>\n",
       "</div>"
      ],
      "text/plain": [
       "            timestamp  group id  side  price  size  order id\n",
       "0 2024-09-30 20:26:01         5   buy    8.0    50         1\n",
       "1 2024-09-30 20:26:11        14  sell   11.0    20         2\n",
       "2 2024-09-30 20:26:14        10  sell   11.0   100         3\n",
       "3 2024-09-30 20:26:15        12  sell   10.0    50         4\n",
       "4 2024-09-30 20:26:16         7   buy    5.0    50         5"
      ]
     },
     "execution_count": 57,
     "metadata": {},
     "output_type": "execute_result"
    }
   ],
   "source": [
    "import pandas as pd\n",
    "\n",
    "orders = pd.read_csv('orders.csv')\n",
    "orders[\"Timestamp\"] = pd.to_datetime(orders[\"Timestamp\"])\n",
    "orders.columns = ['timestamp', 'group id', 'side', 'price', 'size']\n",
    "orders[\"order id\"] = orders.index + 1\n",
    "orders.head()"
   ]
  },
  {
   "cell_type": "markdown",
   "metadata": {},
   "source": [
    "## Main structure of CLOB\n",
    "- deal with each order and try to match a successful trade\n",
    "- place in a proper position if not matched / partly matched"
   ]
  },
  {
   "cell_type": "code",
   "execution_count": 87,
   "metadata": {},
   "outputs": [],
   "source": [
    "# rename to bid & ask in the final display\n",
    "clob = {\"buy\": {}, \"sell\": {}}\n",
    "trade = pd.DataFrame(columns=[\"timestamp\", \"buy\", \"sell\", \"price\", \"size\"]) "
   ]
  },
  {
   "cell_type": "code",
   "execution_count": 10,
   "metadata": {},
   "outputs": [],
   "source": [
    "def match_trade(order):\n",
    "    # return outstanding, matched_trades\n",
    "    matched_trades = []\n",
    "\n",
    "    side, price, outstanding = order[\"side\"], float(order[\"price\"]), int(order[\"size\"])\n",
    "    opp_side = \"buy\" if side == \"sell\" else \"sell\"\n",
    "    opp_side_price = clob[opp_side].keys()\n",
    "    if side == \"buy\":\n",
    "        good_prices = [p for p in opp_side_price if p <= price]\n",
    "    else:\n",
    "        good_prices = [p for p in opp_side_price if p >= price]\n",
    "\n",
    "    if not good_prices:\n",
    "        return outstanding, matched_trades\n",
    "    else:\n",
    "        for good_price in sorted(good_prices):\n",
    "            for opp_order in clob[opp_side][good_price]:\n",
    "                opp_size = int(opp_order[\"size\"])\n",
    "                if outstanding == 0:\n",
    "                    return 0, matched_trades\n",
    "                if opp_size == 0:\n",
    "                    continue\n",
    "                if opp_size >= outstanding:\n",
    "                    matched_trades.append({\"pre-existing\":int(opp_order[\"id\"]),\n",
    "                                           \"latecomer\": int(order[\"order id\"]),\n",
    "                                           \"trade size\": outstanding})\n",
    "                    opp_size -= outstanding\n",
    "                    return 0, matched_trades\n",
    "                else:\n",
    "                    outstanding -= opp_order[\"size\"]\n",
    "                    matched_trades.append({\"pre-existing\":int(opp_order[\"id\"]),\n",
    "                                           \"latecomer\": int(order[\"order id\"]),\n",
    "                                           \"trade size\": opp_size})\n",
    "    "
   ]
  },
  {
   "cell_type": "code",
   "execution_count": 112,
   "metadata": {},
   "outputs": [
    {
     "data": {
      "text/plain": [
       "[{'time': Timestamp('2024-09-30 20:26:27'), 'order id': 8, 'size': 142}]"
      ]
     },
     "execution_count": 112,
     "metadata": {},
     "output_type": "execute_result"
    }
   ],
   "source": [
    "order = orders.iloc[10]\n",
    "side, price, outstanding = order[\"side\"], 6, int(order[\"size\"])\n",
    "opp_side = \"buy\" if side == \"sell\" else \"sell\"\n",
    "opp_side_price = clob[opp_side].keys()\n",
    "if side == \"buy\":\n",
    "    good_prices = [p for p in opp_side_price if p <= price]\n",
    "else:\n",
    "    good_prices = [p for p in opp_side_price if p >= price]\n",
    "\n",
    "good_price =sorted(good_prices)[0]\n",
    "clob[opp_side][good_price]\n",
    "\n"
   ]
  },
  {
   "cell_type": "code",
   "execution_count": 90,
   "metadata": {},
   "outputs": [],
   "source": [
    "def upload_clob_info(order, outstanding=\"\"):\n",
    "    if not outstanding:\n",
    "        outstanding = order[\"size\"]\n",
    "    if type(outstanding) != int:\n",
    "        outstanding = int(outstanding)\n",
    "    price0 = float(order[\"price\"])\n",
    "    order_dic = {\"time\":order[\"timestamp\"],\n",
    "                 \"order id\": int(order[\"order id\"]), \n",
    "                 \"size\": int(order[\"size\"]),\n",
    "                 }\n",
    "    if price0 not in clob[order[\"side\"]]:\n",
    "        clob[order[\"side\"]][price0] = [order_dic]\n",
    "    else:\n",
    "        clob[order[\"side\"]][price0].append(order_dic)\n",
    "\n",
    "def get_order_feature_at_the_price(target_feature, order=\"\", price=\"\", side=\"\", opp=False):\n",
    "    if not (order or (price and side)):\n",
    "        print(\"Error: input either order or side&price\")\n",
    "        return None\n",
    "    elif order:\n",
    "        side, price = order[\"side\"], float(order[\"price\"])\n",
    "    else:\n",
    "        price = float(price)\n",
    "    if opp:\n",
    "        side = \"buy\" if side == \"sell\" else \"sell\"\n",
    "    orders_at_the_price = clob[side][price]\n",
    "    try:\n",
    "        return [i[target_feature] for i in orders_at_the_price]\n",
    "    except KeyError:\n",
    "        print(\"Error: no such feature\")\n",
    "        return None\n",
    "    \n",
    "def upload_trade_info(trades):\n",
    "    pass"
   ]
  },
  {
   "cell_type": "code",
   "execution_count": 4,
   "metadata": {},
   "outputs": [],
   "source": [
    "# Print the updated CLOB in the loop\n",
    "def pull_clob():\n",
    "    pass"
   ]
  },
  {
   "cell_type": "code",
   "execution_count": 11,
   "metadata": {},
   "outputs": [],
   "source": [
    "# Loop through all trades\n",
    "\n",
    "for i in range(0, len(orders)):\n",
    "    order = orders.iloc[i]\n",
    "    outstanding, matched_trades = match_trade(order)\n",
    "    if outstanding > 0:\n",
    "        # Place the rest in the Order Book\n",
    "        upload_clob_info(order, outstanding)\n",
    "    \n",
    "    \n",
    "    # Print the updated records\n",
    "    pull_clob()\n",
    "        \n",
    "\n"
   ]
  },
  {
   "cell_type": "code",
   "execution_count": 91,
   "metadata": {},
   "outputs": [],
   "source": [
    "# for experiment\n",
    "for i in range(0, 10):\n",
    "    order = orders.iloc[i]\n",
    "    upload_clob_info(order)\n",
    "clob"
   ]
  }
 ],
 "metadata": {
  "kernelspec": {
   "display_name": "Python 3",
   "language": "python",
   "name": "python3"
  },
  "language_info": {
   "codemirror_mode": {
    "name": "ipython",
    "version": 3
   },
   "file_extension": ".py",
   "mimetype": "text/x-python",
   "name": "python",
   "nbconvert_exporter": "python",
   "pygments_lexer": "ipython3",
   "version": "3.11.9"
  }
 },
 "nbformat": 4,
 "nbformat_minor": 2
}
