{
 "cells": [
  {
   "cell_type": "code",
   "execution_count": 8,
   "metadata": {},
   "outputs": [
    {
     "data": {
      "text/html": [
       "<div>\n",
       "<style scoped>\n",
       "    .dataframe tbody tr th:only-of-type {\n",
       "        vertical-align: middle;\n",
       "    }\n",
       "\n",
       "    .dataframe tbody tr th {\n",
       "        vertical-align: top;\n",
       "    }\n",
       "\n",
       "    .dataframe thead th {\n",
       "        text-align: right;\n",
       "    }\n",
       "</style>\n",
       "<table border=\"1\" class=\"dataframe\">\n",
       "  <thead>\n",
       "    <tr style=\"text-align: right;\">\n",
       "      <th></th>\n",
       "      <th>Timestamp</th>\n",
       "      <th>Group ID</th>\n",
       "      <th>Side</th>\n",
       "      <th>Price</th>\n",
       "      <th>Size</th>\n",
       "    </tr>\n",
       "  </thead>\n",
       "  <tbody>\n",
       "    <tr>\n",
       "      <th>0</th>\n",
       "      <td>2024-09-30 20:26:01</td>\n",
       "      <td>5</td>\n",
       "      <td>buy</td>\n",
       "      <td>8.0</td>\n",
       "      <td>50</td>\n",
       "    </tr>\n",
       "    <tr>\n",
       "      <th>1</th>\n",
       "      <td>2024-09-30 20:26:11</td>\n",
       "      <td>14</td>\n",
       "      <td>sell</td>\n",
       "      <td>11.0</td>\n",
       "      <td>20</td>\n",
       "    </tr>\n",
       "    <tr>\n",
       "      <th>2</th>\n",
       "      <td>2024-09-30 20:26:14</td>\n",
       "      <td>10</td>\n",
       "      <td>sell</td>\n",
       "      <td>11.0</td>\n",
       "      <td>100</td>\n",
       "    </tr>\n",
       "    <tr>\n",
       "      <th>3</th>\n",
       "      <td>2024-09-30 20:26:15</td>\n",
       "      <td>12</td>\n",
       "      <td>sell</td>\n",
       "      <td>10.0</td>\n",
       "      <td>50</td>\n",
       "    </tr>\n",
       "    <tr>\n",
       "      <th>4</th>\n",
       "      <td>2024-09-30 20:26:16</td>\n",
       "      <td>7</td>\n",
       "      <td>buy</td>\n",
       "      <td>5.0</td>\n",
       "      <td>50</td>\n",
       "    </tr>\n",
       "  </tbody>\n",
       "</table>\n",
       "</div>"
      ],
      "text/plain": [
       "            Timestamp  Group ID  Side  Price  Size\n",
       "0 2024-09-30 20:26:01         5   buy    8.0    50\n",
       "1 2024-09-30 20:26:11        14  sell   11.0    20\n",
       "2 2024-09-30 20:26:14        10  sell   11.0   100\n",
       "3 2024-09-30 20:26:15        12  sell   10.0    50\n",
       "4 2024-09-30 20:26:16         7   buy    5.0    50"
      ]
     },
     "execution_count": 8,
     "metadata": {},
     "output_type": "execute_result"
    }
   ],
   "source": [
    "import pandas as pd\n",
    "\n",
    "orders = pd.read_csv('orders.csv')\n",
    "orders[\"Timestamp\"] = pd.to_datetime(orders[\"Timestamp\"])\n",
    "orders.head()"
   ]
  },
  {
   "cell_type": "markdown",
   "metadata": {},
   "source": [
    "## Main structure of CLOB\n",
    "- deal with each order and try to match a successful trade\n",
    "- place in a proper position if not matched / partly matched"
   ]
  },
  {
   "cell_type": "code",
   "execution_count": 9,
   "metadata": {},
   "outputs": [],
   "source": [
    "# rename to bid & ask in the final display\n",
    "clob = {\"buy\": {}, \"sell\": {}}\n",
    "trade = pd.DataFrame(columns=[\"Timestamp\", \"buy\", \"sell\", \"Price\", \"Volume\"]) "
   ]
  },
  {
   "cell_type": "code",
   "execution_count": 10,
   "metadata": {},
   "outputs": [],
   "source": [
    "def match_trade(order):\n",
    "    side = order[\"Side\"]\n",
    "    pass"
   ]
  },
  {
   "cell_type": "code",
   "execution_count": 11,
   "metadata": {},
   "outputs": [],
   "source": [
    "# Loop through all trades\n",
    "\n",
    "for i in range(0, len(orders)):\n",
    "    order = orders.iloc[i]\n",
    "    if match_trade:\n",
    "        # Place in the Trade Records\n",
    "        pass\n",
    "    else:\n",
    "        # Place in the Order Book\n",
    "        pass\n",
    "\n"
   ]
  }
 ],
 "metadata": {
  "kernelspec": {
   "display_name": "Python 3",
   "language": "python",
   "name": "python3"
  },
  "language_info": {
   "codemirror_mode": {
    "name": "ipython",
    "version": 3
   },
   "file_extension": ".py",
   "mimetype": "text/x-python",
   "name": "python",
   "nbconvert_exporter": "python",
   "pygments_lexer": "ipython3",
   "version": "3.11.9"
  }
 },
 "nbformat": 4,
 "nbformat_minor": 2
}
