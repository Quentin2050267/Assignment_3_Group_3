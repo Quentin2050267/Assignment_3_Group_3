{
 "cells": [
  {
   "cell_type": "code",
   "execution_count": 1,
   "metadata": {},
   "outputs": [
    {
     "data": {
      "text/html": [
       "<div>\n",
       "<style scoped>\n",
       "    .dataframe tbody tr th:only-of-type {\n",
       "        vertical-align: middle;\n",
       "    }\n",
       "\n",
       "    .dataframe tbody tr th {\n",
       "        vertical-align: top;\n",
       "    }\n",
       "\n",
       "    .dataframe thead th {\n",
       "        text-align: right;\n",
       "    }\n",
       "</style>\n",
       "<table border=\"1\" class=\"dataframe\">\n",
       "  <thead>\n",
       "    <tr style=\"text-align: right;\">\n",
       "      <th></th>\n",
       "      <th>timestamp</th>\n",
       "      <th>group id</th>\n",
       "      <th>side</th>\n",
       "      <th>price</th>\n",
       "      <th>size</th>\n",
       "      <th>order id</th>\n",
       "    </tr>\n",
       "  </thead>\n",
       "  <tbody>\n",
       "    <tr>\n",
       "      <th>0</th>\n",
       "      <td>2024-09-30 20:26:01</td>\n",
       "      <td>5</td>\n",
       "      <td>buy</td>\n",
       "      <td>8.0</td>\n",
       "      <td>50</td>\n",
       "      <td>1</td>\n",
       "    </tr>\n",
       "    <tr>\n",
       "      <th>1</th>\n",
       "      <td>2024-09-30 20:26:11</td>\n",
       "      <td>14</td>\n",
       "      <td>sell</td>\n",
       "      <td>11.0</td>\n",
       "      <td>20</td>\n",
       "      <td>2</td>\n",
       "    </tr>\n",
       "    <tr>\n",
       "      <th>2</th>\n",
       "      <td>2024-09-30 20:26:14</td>\n",
       "      <td>10</td>\n",
       "      <td>sell</td>\n",
       "      <td>11.0</td>\n",
       "      <td>100</td>\n",
       "      <td>3</td>\n",
       "    </tr>\n",
       "    <tr>\n",
       "      <th>3</th>\n",
       "      <td>2024-09-30 20:26:15</td>\n",
       "      <td>12</td>\n",
       "      <td>sell</td>\n",
       "      <td>10.0</td>\n",
       "      <td>50</td>\n",
       "      <td>4</td>\n",
       "    </tr>\n",
       "    <tr>\n",
       "      <th>4</th>\n",
       "      <td>2024-09-30 20:26:16</td>\n",
       "      <td>7</td>\n",
       "      <td>buy</td>\n",
       "      <td>5.0</td>\n",
       "      <td>50</td>\n",
       "      <td>5</td>\n",
       "    </tr>\n",
       "  </tbody>\n",
       "</table>\n",
       "</div>"
      ],
      "text/plain": [
       "            timestamp  group id  side  price  size  order id\n",
       "0 2024-09-30 20:26:01         5   buy    8.0    50         1\n",
       "1 2024-09-30 20:26:11        14  sell   11.0    20         2\n",
       "2 2024-09-30 20:26:14        10  sell   11.0   100         3\n",
       "3 2024-09-30 20:26:15        12  sell   10.0    50         4\n",
       "4 2024-09-30 20:26:16         7   buy    5.0    50         5"
      ]
     },
     "execution_count": 1,
     "metadata": {},
     "output_type": "execute_result"
    }
   ],
   "source": [
    "import pandas as pd\n",
    "\n",
    "orders = pd.read_csv('orders.csv')\n",
    "orders[\"Timestamp\"] = pd.to_datetime(orders[\"Timestamp\"])\n",
    "orders.columns = ['timestamp', 'group id', 'side', 'price', 'size']\n",
    "\n",
    "orders[\"group id\"] = orders[\"group id\"].astype('int')\n",
    "orders[\"price\"] = orders[\"price\"].astype('float')\n",
    "orders[\"size\"] = orders[\"size\"].astype('int')\n",
    "\n",
    "orders[\"order id\"] = orders.index + 1\n",
    "orders.head()"
   ]
  },
  {
   "cell_type": "markdown",
   "metadata": {},
   "source": [
    "## Main structure of CLOB\n",
    "- deal with each order and try to match a successful trade\n",
    "- place in a proper position if not matched / partly matched"
   ]
  },
  {
   "cell_type": "code",
   "execution_count": 39,
   "metadata": {},
   "outputs": [],
   "source": [
    "# rename to bid & ask in the final display\n",
    "clob = {\"buy\": {}, \"sell\": {}}\n",
    "trade_df = pd.DataFrame(columns=[\"timestamp\", \"buy\", \"sell\", \"price\", \"size\"]) \n",
    "\n",
    "def restart():\n",
    "    global clob, trade_df\n",
    "    clob = {\"buy\": {}, \"sell\": {}}\n",
    "    trade_df = pd.DataFrame(columns=[\"timestamp\", \"buy\", \"sell\", \"price\", \"size\"]) "
   ]
  },
  {
   "cell_type": "code",
   "execution_count": 45,
   "metadata": {},
   "outputs": [],
   "source": [
    "\n",
    "def match_trade(order):\n",
    "    # return outstanding, matched_trades\n",
    "    matched_trades = []\n",
    "\n",
    "    side, price, outstanding = order[\"side\"], float(order[\"price\"]), int(order[\"size\"])\n",
    "    opp_side = \"buy\" if side == \"sell\" else \"sell\"\n",
    "    opp_side_price = clob[opp_side].keys()\n",
    "    if side == \"buy\":\n",
    "        good_prices = [p for p in opp_side_price if p <= price and sum(get_order_feature_at_the_price(\"size\",order,opp=True)) > 0]\n",
    "    else:\n",
    "        good_prices = [p for p in opp_side_price if p >= price and sum(get_order_feature_at_the_price(\"size\",order,opp=True)) > 0]\n",
    "\n",
    "    if not good_prices:\n",
    "        return outstanding, matched_trades\n",
    "    else:\n",
    "        for i,good_price in enumerate(sorted(good_prices)):\n",
    "            for opp_order in clob[opp_side][good_price]:\n",
    "                opp_size = opp_order[\"size\"]\n",
    "                if outstanding == 0:\n",
    "                    return 0, matched_trades\n",
    "                if outstanding < 0:\n",
    "                    raise ValueError(\"outstanding should not be negative\")\n",
    "                if opp_size == 0:\n",
    "                    continue\n",
    "                if opp_size >= outstanding:\n",
    "                    matched_trades.append({\"pre-existing\":int(opp_order[\"order id\"]),\n",
    "                                           \"latecomer\": int(order[\"order id\"]),\n",
    "                                           \"trade size\": outstanding})\n",
    "                    clob[opp_side][good_price][i][\"size\"] -= outstanding # assign the value in the dictionary\n",
    "                    return 0, matched_trades\n",
    "                else:\n",
    "                    outstanding -= opp_size\n",
    "                    clob[opp_side][good_price][i][\"size\"] = 0 # assign the value in the dictionary\n",
    "                    matched_trades.append({\"pre-existing\":int(opp_order[\"order id\"]),\n",
    "                                           \"latecomer\": int(order[\"order id\"]),\n",
    "                                           \"trade size\": opp_size})\n",
    "    "
   ]
  },
  {
   "cell_type": "code",
   "execution_count": 4,
   "metadata": {},
   "outputs": [],
   "source": [
    "def upload_clob_info(order, outstanding=\"\"):\n",
    "    if not outstanding:\n",
    "        outstanding = order[\"size\"]\n",
    "    if type(outstanding) != int:\n",
    "        outstanding = int(outstanding)\n",
    "    price0 = float(order[\"price\"])\n",
    "    order_dic = {\"time\":order[\"timestamp\"],\n",
    "                 \"order id\": int(order[\"order id\"]), \n",
    "                 \"size\": int(order[\"size\"]),\n",
    "                 }\n",
    "    if price0 not in clob[order[\"side\"]]:\n",
    "        clob[order[\"side\"]][price0] = [order_dic]\n",
    "    else:\n",
    "        clob[order[\"side\"]][price0].append(order_dic)\n",
    "\n",
    "def upload_trade_info(trades):\n",
    "    global trade_df\n",
    "    # dict -> df\n",
    "    # \"pre-existing\",\"latecomer\",\"trade size\" -> \"timestamp\", \"buy\", \"sell\", \"price\", \"size\"\n",
    "    for j in trades:\n",
    "        buyer_seller = {orders.iloc[j[\"latecomer\"]-1, 2]: orders.iloc[j[\"latecomer\"]-1, 1],\n",
    "                        orders.iloc[j[\"pre-existing\"]-1, 2]: orders.iloc[j[\"pre-existing\"]-1, 1]}\n",
    "        trade_detail =  [orders.iloc[j[\"latecomer\"]-1, 0],\n",
    "                        buyer_seller[\"buy\"],\n",
    "                        buyer_seller[\"sell\"],\n",
    "                        orders.iloc[j[\"pre-existing\"]-1, 3],\n",
    "                        j[\"trade size\"]]\n",
    "        new_df = pd.DataFrame([trade_detail], columns=trade_df.columns)\n",
    "        if trade_df.empty:\n",
    "            trade_df = new_df\n",
    "        else:\n",
    "            trade_df = pd.concat([trade_df, new_df], ignore_index=True)\n",
    "\n",
    "def get_order_feature_at_the_price(target_feature, order0=\"\", price=\"\", side=\"\", opp=False):\n",
    "    if not ((not order0.empty) or (price and side)):\n",
    "        print(\"Error: input either order or side&price\")\n",
    "        return None\n",
    "    elif not order0.empty:\n",
    "        side, price = order0[\"side\"], float(order0[\"price\"])\n",
    "    else:\n",
    "        price = float(price)\n",
    "    if opp:\n",
    "        side = \"buy\" if side == \"sell\" else \"sell\"\n",
    "    orders_at_the_price = clob[side][price]\n",
    "    try:\n",
    "        return [i[target_feature] for i in orders_at_the_price]\n",
    "    except KeyError:\n",
    "        print(\"Error: no such feature\")\n",
    "        return None"
   ]
  },
  {
   "cell_type": "code",
   "execution_count": 32,
   "metadata": {},
   "outputs": [],
   "source": [
    "# Print the updated CLOB in the loop\n",
    "def pull_clob():\n",
    "    pass\n"
   ]
  },
  {
   "cell_type": "code",
   "execution_count": null,
   "metadata": {},
   "outputs": [],
   "source": [
    "# Print the bid-ask spread in the loop\n",
    "def print_spread():\n",
    "    highest_bid = max(clob[\"buy\"].keys()) if clob[\"buy\"] else None\n",
    "    lowest_ask = min(clob[\"sell\"].keys()) if clob[\"sell\"] else None\n",
    "    if highest_bid and lowest_ask:\n",
    "        return lowest_ask - highest_bid"
   ]
  },
  {
   "cell_type": "code",
   "execution_count": 78,
   "metadata": {},
   "outputs": [],
   "source": [
    "# Loop through all trades\n",
    "restart()\n",
    "#for i in range(0, len(orders)):\n",
    "for i in range(0, 14):\n",
    "    order = orders.iloc[i]\n",
    "    outstanding, matched_trades = match_trade(order)\n",
    "    if outstanding > 0:\n",
    "        # Place the rest in the Order Book\n",
    "        upload_clob_info(order, outstanding)\n",
    "    if matched_trades:\n",
    "        upload_trade_info(matched_trades)\n",
    "    \n",
    "    \n",
    "    # Print the updated records\n",
    "    bid_ask_spread = pull_clob()\n",
    "        \n",
    "\n"
   ]
  },
  {
   "cell_type": "code",
   "execution_count": 79,
   "metadata": {},
   "outputs": [
    {
     "data": {
      "text/plain": [
       "{'buy': {8.0: [{'time': Timestamp('2024-09-30 20:26:01'),\n",
       "    'order id': 1,\n",
       "    'size': 50},\n",
       "   {'time': Timestamp('2024-09-30 20:26:29'), 'order id': 9, 'size': 50}],\n",
       "  5.0: [{'time': Timestamp('2024-09-30 20:26:16'), 'order id': 5, 'size': 50}],\n",
       "  7.0: [{'time': Timestamp('2024-09-30 20:26:27'),\n",
       "    'order id': 8,\n",
       "    'size': 142}]},\n",
       " 'sell': {11.0: [{'time': Timestamp('2024-09-30 20:26:11'),\n",
       "    'order id': 2,\n",
       "    'size': 20},\n",
       "   {'time': Timestamp('2024-09-30 20:26:14'), 'order id': 3, 'size': 100}],\n",
       "  10.0: [{'time': Timestamp('2024-09-30 20:26:15'),\n",
       "    'order id': 4,\n",
       "    'size': -50},\n",
       "   {'time': Timestamp('2024-09-30 20:26:34'), 'order id': 12, 'size': 60}],\n",
       "  12.5: [{'time': Timestamp('2024-09-30 20:26:20'),\n",
       "    'order id': 6,\n",
       "    'size': 20}],\n",
       "  15.0: [{'time': Timestamp('2024-09-30 20:26:23'),\n",
       "    'order id': 7,\n",
       "    'size': 40}],\n",
       "  30.0: [{'time': Timestamp('2024-09-30 20:26:31'),\n",
       "    'order id': 10,\n",
       "    'size': 100}],\n",
       "  100.0: [{'time': Timestamp('2024-09-30 20:26:32'),\n",
       "    'order id': 11,\n",
       "    'size': 50}]}}"
      ]
     },
     "execution_count": 79,
     "metadata": {},
     "output_type": "execute_result"
    }
   ],
   "source": [
    "clob"
   ]
  },
  {
   "cell_type": "code",
   "execution_count": 75,
   "metadata": {},
   "outputs": [
    {
     "data": {
      "text/plain": [
       "50"
      ]
     },
     "execution_count": 75,
     "metadata": {},
     "output_type": "execute_result"
    }
   ],
   "source": [
    "order = orders.iloc[15]\n",
    "matched_trades = []\n",
    "\n",
    "side, price, outstanding = order[\"side\"], float(order[\"price\"]), int(order[\"size\"])\n",
    "opp_side = \"buy\" if side == \"sell\" else \"sell\"\n",
    "opp_side_price = clob[opp_side].keys()\n",
    "\n",
    "outstanding"
   ]
  },
  {
   "cell_type": "code",
   "execution_count": 76,
   "metadata": {},
   "outputs": [],
   "source": [
    "\n",
    "if side == \"buy\":\n",
    "    good_prices = [p for p in opp_side_price if p <= price and sum(get_order_feature_at_the_price(\"size\",order,opp=True)) > 0]\n",
    "else:\n",
    "    good_prices = [p for p in opp_side_price if p >= price and sum(get_order_feature_at_the_price(\"size\",order,opp=True)) > 0]\n",
    "\n",
    "if not good_prices:\n",
    "    pass\n",
    "else:\n",
    "    for i,good_price in enumerate(sorted(good_prices)):\n",
    "        for opp_order in clob[opp_side][good_price]:\n",
    "            opp_size = opp_order[\"size\"]\n",
    "            if outstanding == 0:\n",
    "                break\n",
    "            if outstanding < 0:\n",
    "                raise ValueError(\"outstanding should not be negative\")\n",
    "            if opp_size == 0:\n",
    "                continue\n",
    "            if opp_size >= outstanding:\n",
    "                matched_trades.append({\"pre-existing\":int(opp_order[\"order id\"]),\n",
    "                                        \"latecomer\": int(order[\"order id\"]),\n",
    "                                        \"trade size\": outstanding})\n",
    "                clob[opp_side][good_price][i][\"size\"] -= outstanding # assign the value in the dictionary\n",
    "                break\n",
    "            else:\n",
    "                outstanding -= opp_size\n",
    "                clob[opp_side][good_price][i][\"size\"] = 0 # assign the value in the dictionary\n",
    "                matched_trades.append({\"pre-existing\":int(opp_order[\"order id\"]),\n",
    "                                        \"latecomer\": int(order[\"order id\"]),\n",
    "                                        \"trade size\": opp_size})\n"
   ]
  },
  {
   "cell_type": "code",
   "execution_count": 77,
   "metadata": {},
   "outputs": [
    {
     "data": {
      "text/plain": [
       "(40,\n",
       " [{'pre-existing': 4, 'latecomer': 16, 'trade size': -50},\n",
       "  {'pre-existing': 12, 'latecomer': 16, 'trade size': 60}])"
      ]
     },
     "execution_count": 77,
     "metadata": {},
     "output_type": "execute_result"
    }
   ],
   "source": [
    "outstanding,matched_trades"
   ]
  }
 ],
 "metadata": {
  "kernelspec": {
   "display_name": "Python 3",
   "language": "python",
   "name": "python3"
  },
  "language_info": {
   "codemirror_mode": {
    "name": "ipython",
    "version": 3
   },
   "file_extension": ".py",
   "mimetype": "text/x-python",
   "name": "python",
   "nbconvert_exporter": "python",
   "pygments_lexer": "ipython3",
   "version": "3.11.9"
  }
 },
 "nbformat": 4,
 "nbformat_minor": 2
}
